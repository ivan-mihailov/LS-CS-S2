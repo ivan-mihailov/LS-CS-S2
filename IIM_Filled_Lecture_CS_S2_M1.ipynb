{
  "nbformat": 4,
  "nbformat_minor": 0,
  "metadata": {
    "colab": {
      "name": "IIM_Filled_Lecture_CS_S2_M1.ipynb",
      "provenance": [],
      "collapsed_sections": [],
      "authorship_tag": "ABX9TyMF/u349zKCLqPVOpCvTJ4q",
      "include_colab_link": true
    },
    "kernelspec": {
      "name": "python3",
      "display_name": "Python 3"
    },
    "language_info": {
      "name": "python"
    }
  },
  "cells": [
    {
      "cell_type": "markdown",
      "metadata": {
        "id": "view-in-github",
        "colab_type": "text"
      },
      "source": [
        "<a href=\"https://colab.research.google.com/github/ivan-mihailov/LS-CS-S2/blob/main/IIM_Filled_Lecture_CS_S2_M1.ipynb\" target=\"_parent\"><img src=\"https://colab.research.google.com/assets/colab-badge.svg\" alt=\"Open In Colab\"/></a>"
      ]
    },
    {
      "cell_type": "markdown",
      "metadata": {
        "id": "iPsFuZREwDwa"
      },
      "source": [
        "# Number Bases\n",
        "\n",
        "\n",
        "*   Decimal\n",
        "*   Binary\n",
        "*   Hexadecimal\n",
        "\n",
        "### Decimal\n",
        "Decimal / Radix 10\n",
        "```\n",
        "10^n\n",
        "\n",
        "0 -9\n",
        "\n",
        "10^3 10^2 10^1 10^0\n",
        "Th   H    T    U/O\n",
        "0    0    0    0\n",
        "2    1    5    7\n",
        "```\n",
        "\n",
        "### Binary\n",
        "Binary / Radix 2\n",
        "```\n",
        "2^n\n",
        "\n",
        "0 - 1\n",
        "\n",
        "2^3 2^2 2^1 2^0\n",
        "8   4   2   1\n",
        "0   0   0   0\n",
        "1   0   1   0 => 1 * 8 + 0 * 4 + 1 * 2 + 0 * 1 = 10 (Base 10/Decimal)\n",
        "```\n",
        "\n",
        "#### Conversion between Decimal and Binary\n",
        "\n",
        "```\n",
        "25 => mod 2 and floor div 2 until we get to 1 base\n",
        "25 % 2 => 12 R1\n",
        "12 % 2 => 6  R0\n",
        "6 % 2 =>  3  R0\n",
        "3 % 2 =>  1  R1\n",
        "\n",
        "-->11001 (1B (from base), then R1R0R0R1 (remainders going from bottom to top))\n",
        "\n",
        "BIN 1000001 = 'A'\n",
        "HEX 41\n",
        "DEC 65\n",
        "\n",
        "63\n",
        "9\n",
        "111\n",
        "```\n",
        "\n",
        "### Hexadecimal\n",
        "Hexadecimal / Radix 16\n",
        "```\n",
        "0 - 9 A - F\n",
        "16^n\n",
        "\n",
        "16^2 16^1 16^0\n",
        "256s 16s   1s\n",
        " 0    0    0\n",
        " 0    0    1\n",
        " 0    2    1 => 2 * 16 + 1 * 1 => 33 (Base 10)\n",
        " 0    F    F => 15 * 16 + 15 * 1 => 255 (Base 10)\n",
        " 1    0    0 => 1 * 256 + 0 * 16 + 0 * 1 => 256 (Base 10)\n",
        "\n",
        " ```\n",
        "\n",
        " #### Conversion between Binary and Hexadecimal\n",
        "\n",
        " ```\n",
        " 10010001\n",
        " 10000001\n",
        " 00111100\n",
        " 10101100\n",
        "\n",
        " Split the binary number into 2 four digit numbers, convert each to Hex and put them back together\n",
        "\n",
        " 10010001        =>       1001   0001\n",
        "                           [9]    [1]\n",
        " 10010001 (Base 2)     <>     91 (Base 16)\n",
        "\n",
        "\n",
        "Example with Random number:\n",
        "\n",
        "10110101110011010101110101101010 (32-bit random number):\n",
        "8s 4s 2s 1s\n",
        "1  0  1  1  0101 1100 1101 0101 1101 0110 1010\n",
        " [B]        [5]  [C]  [D] [5]  [D]  [6]   [A]\n",
        " B5CD5D6A (Base 16)\n",
        " 0xB5CD5D6A => 3050134890 (Base 10)\n",
        "```"
      ]
    },
    {
      "cell_type": "markdown",
      "metadata": {
        "id": "MItrtf2AH8O2"
      },
      "source": [
        "# Arrays"
      ]
    },
    {
      "cell_type": "code",
      "metadata": {
        "colab": {
          "base_uri": "https://localhost:8080/"
        },
        "id": "YRGH2tWiv_Dh",
        "outputId": "e490c9fe-2946-4dc0-eee7-e74594140ef2"
      },
      "source": [
        "import array\n",
        "a = array.array('I', [1, 2, 3, 4, 5])\n",
        "# unsigned int a[] = {1, 2, 3, 4, 5};\n",
        "print(a)\n",
        "print(a[0])\n",
        "\"\"\"\n",
        "a[0] => a + offset * size of data type ('size') => @a + offset * size => @30200 + 0 * 1\n",
        "a[1] => a + offset * size of data type ('size') => @a + offset * size => @30200 + 1 * 1\n",
        "\n",
        "[ This is RAM representation:\n",
        " Memory Block #: Data\n",
        "      30200:    00000001\n",
        "      30201:    00000010\n",
        "      30202:    00000011\n",
        "      30203:    00000100\n",
        "      30204:    00000101\n",
        "]\n",
        "\"\"\""
      ],
      "execution_count": 2,
      "outputs": [
        {
          "output_type": "stream",
          "name": "stdout",
          "text": [
            "array('I', [1, 2, 3, 4, 5])\n",
            "1\n"
          ]
        }
      ]
    },
    {
      "cell_type": "markdown",
      "metadata": {
        "id": "dTHgn-1ANmta"
      },
      "source": [
        "# Strings"
      ]
    },
    {
      "cell_type": "markdown",
      "metadata": {
        "id": "VRaPUd3pNpZ6"
      },
      "source": [
        "*   **ASCII**\n",
        "*   **UTF8 / 16**\n",
        "\n"
      ]
    },
    {
      "cell_type": "code",
      "metadata": {
        "colab": {
          "base_uri": "https://localhost:8080/"
        },
        "id": "4kvtZ-7bS50E",
        "outputId": "336f0e1a-1219-4614-9ad8-96cdea4d2300"
      },
      "source": [
        "print(ord('A')) # => 65\n",
        "print(chr(65)) # => 'A'\n",
        "print(bin(ord('A'))) # 0b1000001\n",
        "print(chr(ord('A') + 1)) # => 'B'\n",
        "print(chr(ord('A') + 25)) # => 'Z'\n",
        "# A - Z : 65 -> 90\n",
        "# a - z : 97 -> 122\n",
        "# 0 - 9 : 48 -> 57"
      ],
      "execution_count": 3,
      "outputs": [
        {
          "output_type": "stream",
          "name": "stdout",
          "text": [
            "65\n",
            "A\n",
            "0b1000001\n",
            "B\n",
            "Z\n"
          ]
        }
      ]
    },
    {
      "cell_type": "code",
      "metadata": {
        "id": "pumkYLMwOn2o"
      },
      "source": [
        "\"\"\"\n",
        "Given a string, implement a function that returns the string with all lowercase\n",
        "characters.\n",
        "Example 1:\n",
        "Input: \"LambdaSchool\"\n",
        "Output: \"lambdaschool\"\n",
        "Example 2:\n",
        "Input: \"austen\"\n",
        "Output: \"austen\"\n",
        "Example 3:\n",
        "Input: \"LLAMA\"\n",
        "Output: \"llama\"\n",
        "*Note: You must implement the function without using the built-in method on the \n",
        "string objects in Python. Think about how character encoding works and explore\n",
        "if there is a mathematical approach that you can take.*\n",
        "\n",
        "Difference b/n ord('A') and ord('a') is difference b/n 65 and 97. \n",
        "So chr(ord('A') + 32) = 'a'\n",
        "\n",
        "Plan:\n",
        "- create a list to hold ordinal values\n",
        "- iterate over all chars in string and append ord value to the list\n",
        "- iterate over the ordinal list and if the value is between 64 and 91, increment\n",
        "the values by 32 to change it to lowercase\n",
        "- create empty string\n",
        "- iterate over updated ordinal list and concat each chr of the ordinal value \n",
        "to the new string\n",
        "\n",
        "\"\"\"\n",
        "def to_lower_case(string):\n",
        "  \n",
        "  str_list = list(string)\n",
        "  lower_str = ''\n",
        "\n",
        "  for i in range(len(str_list)):\n",
        "    str_list[i] = ord(str_list[i])\n",
        "    if str_list[i] > 64 and str_list[i] < 91:\n",
        "      str_list[i] += 32\n",
        "\n",
        "    lower_str += chr(str_list[i])\n",
        "  \n",
        "  return lower_str"
      ],
      "execution_count": 14,
      "outputs": []
    },
    {
      "cell_type": "code",
      "metadata": {
        "colab": {
          "base_uri": "https://localhost:8080/"
        },
        "id": "FSAp9DT8agoO",
        "outputId": "7619e8df-f986-41a8-8372-380dd8a246d3"
      },
      "source": [
        "print(to_lower_case(\"LambdaSchool\"))\n",
        "print(to_lower_case('austen'))\n",
        "print(to_lower_case(\"LLAMA\"))"
      ],
      "execution_count": 16,
      "outputs": [
        {
          "output_type": "stream",
          "name": "stdout",
          "text": [
            "lambdaschool\n",
            "austen\n",
            "llama\n"
          ]
        }
      ]
    }
  ]
}