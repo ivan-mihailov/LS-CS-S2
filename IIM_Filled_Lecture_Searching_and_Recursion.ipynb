{
  "nbformat": 4,
  "nbformat_minor": 0,
  "metadata": {
    "colab": {
      "name": "IIM_Filled_Lecture_Searching_and_Recursion.ipynb",
      "provenance": [],
      "include_colab_link": true
    },
    "kernelspec": {
      "name": "python3",
      "display_name": "Python 3"
    },
    "language_info": {
      "name": "python"
    }
  },
  "cells": [
    {
      "cell_type": "markdown",
      "metadata": {
        "id": "view-in-github",
        "colab_type": "text"
      },
      "source": [
        "<a href=\"https://colab.research.google.com/github/ivan-mihailov/LS-CS-S2/blob/main/IIM_Filled_Lecture_Searching_and_Recursion.ipynb\" target=\"_parent\"><img src=\"https://colab.research.google.com/assets/colab-badge.svg\" alt=\"Open In Colab\"/></a>"
      ]
    },
    {
      "cell_type": "markdown",
      "metadata": {
        "id": "F_wEaJy0BrNq"
      },
      "source": [
        "# Searching and Recursion\n",
        "- linear searching\n",
        "- recursion\n",
        "- binary search"
      ]
    },
    {
      "cell_type": "markdown",
      "metadata": {
        "id": "BUXPJkOkCjM-"
      },
      "source": [
        "## Linear Search"
      ]
    },
    {
      "cell_type": "code",
      "metadata": {
        "id": "ERjyEXT0BpWC",
        "colab": {
          "base_uri": "https://localhost:8080/"
        },
        "outputId": "00436d2f-8734-4546-a301-105dd15063a9"
      },
      "source": [
        "# Linear Search\n",
        "def linear_search(lst, target):\n",
        "  for i in range(len(lst)):\n",
        "    if lst[i] == target:\n",
        "      return i\n",
        "\n",
        "  return -1\n",
        "\n",
        "\n",
        "l = [23, 34, 12, 3, 5654, 2, 13, 456]\n",
        "\n",
        "print(linear_search(l, 2))"
      ],
      "execution_count": 1,
      "outputs": [
        {
          "output_type": "stream",
          "name": "stdout",
          "text": [
            "5\n"
          ]
        }
      ]
    },
    {
      "cell_type": "markdown",
      "metadata": {
        "id": "mMgMuXwECmQt"
      },
      "source": [
        "## Recursion"
      ]
    },
    {
      "cell_type": "code",
      "metadata": {
        "id": "7eOPWXjTCoTK",
        "colab": {
          "base_uri": "https://localhost:8080/"
        },
        "outputId": "d6c082ec-09c4-4c6c-d39c-6f49f41fa8f1"
      },
      "source": [
        "def n_times_loop(n):\n",
        "  # Rule of thumb: if you don't know size of input, use while loop\n",
        "  # while n > 0:\n",
        "  #   print(n)\n",
        "  #   n -= 1 # decrement\n",
        "    \n",
        "  # for i in range(n, 0, -1):\n",
        "  #   print(i)\n",
        "  \n",
        "  while True:\n",
        "    # base case\n",
        "    if n <= 0:\n",
        "      return\n",
        "    # do something\n",
        "    print(n)\n",
        "\n",
        "    n -= 1 # Decrement\n",
        "\n",
        "n = 5\n",
        "n_times_loop(n)"
      ],
      "execution_count": 5,
      "outputs": [
        {
          "output_type": "stream",
          "name": "stdout",
          "text": [
            "5\n",
            "4\n",
            "3\n",
            "2\n",
            "1\n"
          ]
        }
      ]
    },
    {
      "cell_type": "code",
      "metadata": {
        "id": "WoZv-BESCtTN",
        "colab": {
          "base_uri": "https://localhost:8080/"
        },
        "outputId": "a11fa8cb-80e7-4fd1-b3fd-3243638fb438"
      },
      "source": [
        "# anything where O(log(n)) or split into identical sub-problems, good candidates\n",
        "# for recursion \n",
        "def n_times_recurse(n):\n",
        "  # base case\n",
        "  if n <= 0:\n",
        "      return\n",
        "  # do something\n",
        "  print(n)\n",
        "\n",
        "  # recursive call (decrement)\n",
        "  n_times_recurse(n - 1)\n",
        "\n",
        "\n",
        "n = 5\n",
        "n_times_recurse(n)"
      ],
      "execution_count": 6,
      "outputs": [
        {
          "output_type": "stream",
          "name": "stdout",
          "text": [
            "5\n",
            "4\n",
            "3\n",
            "2\n",
            "1\n"
          ]
        }
      ]
    },
    {
      "cell_type": "markdown",
      "metadata": {
        "id": "QZ_MX1kZDJwm"
      },
      "source": [
        "## Binary Search"
      ]
    },
    {
      "cell_type": "code",
      "metadata": {
        "id": "pRYwOdVeDL2z",
        "colab": {
          "base_uri": "https://localhost:8080/"
        },
        "outputId": "70194996-0dab-4a19-ba6d-9ce9e655df7e"
      },
      "source": [
        "# Binary Search\n",
        "\n",
        "def binary_search(lst, target):\n",
        "  left_boundary = 0\n",
        "  right_boundary = len(lst) - 1 # we want the index/not the actual length\n",
        "  while left_boundary <= right_boundary:\n",
        "    guess = (left_boundary + right_boundary) // 2 # b/e we want to keep the original index \n",
        "    # (using only max changes the index as max decreases)\n",
        "    \n",
        "    if lst[guess] == target:\n",
        "      return guess\n",
        "\n",
        "    elif lst[guess] < target:\n",
        "      left_boundary = guess + 1\n",
        "    \n",
        "    else:\n",
        "      right_boundary = guess - 1\n",
        "\n",
        "  return -1\n",
        "\n",
        "l = [1, 2, 3, 45, 67, 78, 98, 120, 200]\n",
        "\n",
        "print(binary_search(l, 78))"
      ],
      "execution_count": 7,
      "outputs": [
        {
          "output_type": "stream",
          "name": "stdout",
          "text": [
            "5\n"
          ]
        }
      ]
    },
    {
      "cell_type": "markdown",
      "metadata": {
        "id": "AB-nCKt7DpQM"
      },
      "source": [
        "# Demo - find rotation point"
      ]
    },
    {
      "cell_type": "code",
      "metadata": {
        "colab": {
          "base_uri": "https://localhost:8080/"
        },
        "id": "X3PBuE9ODsUJ",
        "outputId": "6ee2446c-2545-4557-f254-e42b5af3520e"
      },
      "source": [
        "\"\"\"\n",
        "I was bored one day and decided to look at last names in the phonebook for my\n",
        "area.\n",
        "I flipped open the phonebook to a random page near the middle and started\n",
        "perusing. I wrote each last name that I was unfamiliar with down on paper in\n",
        "increasing order. When I got to the end of the phonebook, I was having so much\n",
        "fun I decided to start from the beginning and keep going until I reached the\n",
        "page where I had started.\n",
        "When I was finished, I had a list of interesting last names that were mostly\n",
        "alphabetical. The problem was that my list starts somehere near the middle of\n",
        "the alphabet, reaches the end, and then starts from the beginning of the\n",
        "alphabet. In other words, my list of names is sorted, but it is \"rotated.\"\n",
        "Example:\n",
        "surnames = [\n",
        "    'liu',\n",
        "    'mcdowell',\n",
        "    'nixon',\n",
        "    'sparks',\n",
        "    'zhang',\n",
        "    'ahmed',  # <-- rotates here!\n",
        "    'brandt',\n",
        "    'davenport',\n",
        "    'farley',\n",
        "    'glover',\n",
        "    'kennedy',\n",
        "]\n",
        "Write a function that finds the index of the \"rotation point\". The \"rotation\n",
        "point\" is where I started working from the beginning of the phone book. The\n",
        "list I came up was absolutely huge, so make sure your solution is efficient.\n",
        "*Note: you should be able to come up with a solution that has O(log n) time\n",
        "complexity.*\n",
        "\"\"\"\n",
        "def find_rotation_point(surnames):\n",
        "  pass\n",
        "\n",
        "\n",
        "\n",
        "\n",
        "# testing\n",
        "surnames = ['liu', 'mcdowell', 'nixon', 'sparks', 'zhang', 'ahmed', 'brandt', 'davenport', 'farley', 'glover', 'kennedy']\n",
        "print(find_rotation_point(surnames))\n",
        "surnames = []\n",
        "print(find_rotation_point(surnames))"
      ],
      "execution_count": null,
      "outputs": [
        {
          "output_type": "stream",
          "name": "stdout",
          "text": [
            "None\n",
            "None\n"
          ]
        }
      ]
    },
    {
      "cell_type": "markdown",
      "metadata": {
        "id": "eM3TcuLOMCQx"
      },
      "source": [
        "## BONUS - For Office Hours\n",
        "- recursive fib\n",
        "- iterative fib\n"
      ]
    },
    {
      "cell_type": "code",
      "metadata": {
        "id": "_o_BqAXCMRSu",
        "colab": {
          "base_uri": "https://localhost:8080/"
        },
        "outputId": "8f326b0c-b2c2-4735-8af7-1ca802ce6216"
      },
      "source": [
        "# simple recursive fib\n",
        "# Fibonacci was originally made to track reproductive cycles of rabbits\n",
        "# now we know rose petals/tree leaves follow Fibonacci\n",
        "\n",
        "def fib_r(n):\n",
        "  # fib(n) = fib(n-1) + fib(n-2)\n",
        "  # base case\n",
        "  if n <= 1:\n",
        "    return n\n",
        "\n",
        "  # todo?\n",
        "\n",
        "  # recursive case\n",
        "  else:\n",
        "    return fib_r(n - 1) + fib_r(n - 2)\n",
        "\n",
        "print(fib_r(6))"
      ],
      "execution_count": 9,
      "outputs": [
        {
          "output_type": "stream",
          "name": "stdout",
          "text": [
            "8\n"
          ]
        }
      ]
    },
    {
      "cell_type": "code",
      "metadata": {
        "colab": {
          "base_uri": "https://localhost:8080/"
        },
        "id": "KuS67rdDMTfu",
        "outputId": "aa017055-baf2-4378-fed6-2354840e36e6"
      },
      "source": [
        "# iterative generate fib numbers from 0 to n\n",
        "\"\"\"\n",
        "Let's make a function that gives us a list of the fib sequence up to a finite number for instance...\n",
        "\n",
        "input: 10\n",
        "output: [0, 1, 1, 2, 3, 5, 8]\n",
        "\n",
        "  the resulting list has fib numbers that go up to 10 or less \n",
        "  so we do not hit the next fib number as `13` would exceed `10`\n",
        "\n",
        "input: 20\n",
        "output: [0, 1, 1, 2, 3, 5, 8, 13]\n",
        "  the resulting list has fib numbers that go up to 20 or less \n",
        "  so we do not hit the next fib number as `21` would exceed `20`\n",
        "\n",
        "\"\"\"\n",
        "\n",
        "def generate_fibonacci(n): \n",
        "  pass\n",
        "\n",
        "generate_fibonacci(20)"
      ],
      "execution_count": null,
      "outputs": [
        {
          "output_type": "execute_result",
          "data": {
            "text/plain": [
              "[0, 1, 1, 2, 3, 5, 8, 13]"
            ]
          },
          "metadata": {},
          "execution_count": 10
        }
      ]
    }
  ]
}