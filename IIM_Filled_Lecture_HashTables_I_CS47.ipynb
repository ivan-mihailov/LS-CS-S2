{
  "nbformat": 4,
  "nbformat_minor": 0,
  "metadata": {
    "colab": {
      "name": "IIM_Filled_Lecture_HashTables_I_CS47.ipynb",
      "provenance": [],
      "include_colab_link": true
    },
    "kernelspec": {
      "name": "python3",
      "display_name": "Python 3"
    },
    "language_info": {
      "name": "python"
    }
  },
  "cells": [
    {
      "cell_type": "markdown",
      "metadata": {
        "id": "view-in-github",
        "colab_type": "text"
      },
      "source": [
        "<a href=\"https://colab.research.google.com/github/ivan-mihailov/LS-CS-S2/blob/main/IIM_Filled_Lecture_HashTables_I_CS47.ipynb\" target=\"_parent\"><img src=\"https://colab.research.google.com/assets/colab-badge.svg\" alt=\"Open In Colab\"/></a>"
      ]
    },
    {
      "cell_type": "markdown",
      "metadata": {
        "id": "Suy_i4Sctkl4"
      },
      "source": [
        "# Hash Tables\n",
        "- Hashing Function\n",
        "- Storage\n",
        "\n",
        "\n",
        "# CODE: 4024\n"
      ]
    },
    {
      "cell_type": "code",
      "metadata": {
        "colab": {
          "base_uri": "https://localhost:8080/"
        },
        "id": "Liqgto3Vtj9b",
        "outputId": "40bf4e21-761f-45fb-aeb2-17e3e83096db"
      },
      "source": [
        "storage = [None] * 10\n",
        "s1 = \"BCA\"\n",
        "s2 = \"CAB\"\n",
        "s3 = \"ABC\"\n",
        "\n",
        "\n",
        "\n",
        "# def my_hashing_func(str):\n",
        "#     bytes_representation = str.encode()\n",
        "\n",
        "#     sum = 0\n",
        "#     for byte in bytes_representation:\n",
        "#         sum += byte\n",
        "\n",
        "#     return sum\n",
        "\n",
        "def my_hashing_func(str, table_size):\n",
        "    bytes_representation = str.encode()\n",
        "\n",
        "    sum = 0\n",
        "    for byte in bytes_representation:\n",
        "        sum += byte\n",
        "\n",
        "    return sum % table_size\n",
        "\n",
        "def put(key, val):\n",
        "  index = my_hashing_func(key, 10)\n",
        "  storage[index] = val\n",
        "\n",
        "def get(key):\n",
        "  index = my_hashing_func(key, 10)\n",
        "  return storage[index]\n",
        "\n",
        "\n",
        "\n",
        "# print(my_hashing_func(s1, len(storage)))\n",
        "# print(my_hashing_func(s2, len(storage)))\n",
        "# print(my_hashing_func(s3, len(storage)))\n",
        "\n",
        "put(\"Murray\", 12345)\n",
        "put(\"rayMur\", 54321)\n",
        "print(get(\"Murray\"))"
      ],
      "execution_count": null,
      "outputs": [
        {
          "output_type": "stream",
          "name": "stdout",
          "text": [
            "54321\n"
          ]
        }
      ]
    },
    {
      "cell_type": "markdown",
      "metadata": {
        "id": "psrNji_nuCab"
      },
      "source": [
        "Demo"
      ]
    },
    {
      "cell_type": "code",
      "metadata": {
        "colab": {
          "base_uri": "https://localhost:8080/"
        },
        "id": "UaGdwCDStez4",
        "outputId": "3125483c-f507-4350-db81-270ea1cd81c7"
      },
      "source": [
        "\"\"\"\n",
        "Your task is create your own HashTable without using a built-in library.\n",
        "Your HashTable needs to have the following functions:\n",
        "- put(key, value) : Inserts a (key, value) pair into the HashTable. If the\n",
        "value already exists in the HashTable, update the value.\n",
        "- get(key): Returns the value to which the specified key is mapped, or -1 if\n",
        "this map contains no mapping for the key.\n",
        "- remove(key) : Remove the mapping for the value key if this map contains the\n",
        "mapping for the key.\n",
        "\"\"\"\n",
        "# [A]->[F]->[J]->None\n",
        "class ListNode:\n",
        "    def __init__(self, key, value):\n",
        "        self.key = key\n",
        "        self.value = value\n",
        "        self.next = None\n",
        "\n",
        "class MyHashTable:\n",
        "    def __init__(self):\n",
        "        \"\"\"\n",
        "        Initialize your data structure here.\n",
        "        \"\"\"\n",
        "        self.size = 1000\n",
        "        self.storage = [None] * self.size\n",
        "    \n",
        "    def my_hashing_func(self, str):\n",
        "        bytes_representation = str.encode()\n",
        "\n",
        "        sum = 0\n",
        "        for byte in bytes_representation:\n",
        "            sum += byte\n",
        "\n",
        "        return sum % self.size\n",
        "\n",
        "    def put(self, key, value):\n",
        "        \"\"\"\n",
        "        value will always be non-negative.\n",
        "        \"\"\"\n",
        "        index = self.my_hashing_func(key)\n",
        "        # logic to deal with collisions\n",
        "        # if there is nothing in the storage at the current index\n",
        "        if self.storage[index] == None:\n",
        "          # instantiate a new ListNode with key value pair from the passed in key & value\n",
        "          # place the new ListNode into the storage at the current index\n",
        "          self.storage[index] = ListNode(key, value)\n",
        "        # otherwise\n",
        "        else:\n",
        "          # traverse the linked list\n",
        "          # get the current node from the storage at the current index\n",
        "          current = self.storage[index]\n",
        "          # to deal with new key equal to key that's already in the storage\n",
        "            # while True:\n",
        "          while True:\n",
        "              # check if the current node's key is equal to the passed in key\n",
        "            if current.key == key:\n",
        "              # if yes, set the current node's value to the passed in value\n",
        "              current.value = value\n",
        "              # return\n",
        "              return\n",
        "              # if the current node's next is None\n",
        "            if current.next == None:\n",
        "                # break out of the loop\n",
        "              break\n",
        "              # traverse to the next node\n",
        "            current = current.next\n",
        "          \n",
        "          # create a new ListNode with the given key & value\n",
        "          # place new ListNode into the storage at the current.next position\n",
        "          current.next = ListNode(key, value)\n",
        "\n",
        "    def get(self, key: int) -> int:\n",
        "        \"\"\"\n",
        "        Returns the value to which the specified key is mapped, or -1 if this map contains no mapping for the key\n",
        "        \"\"\"\n",
        "        index = self.my_hashing_func(key)\n",
        "        # traversal of a linked list\n",
        "        # get the current node of the linked list\n",
        "        current = self.storage[index]\n",
        "        # while we have a current node:\n",
        "        while current:\n",
        "          # is the current node's key equal to key we passed in (the target key)\n",
        "          if current.key == key:\n",
        "          # if yes, return the value of the current node\n",
        "            return current.value\n",
        "          # if no, move on to the next node in the linked list\n",
        "          else:\n",
        "            current = current.next \n",
        "        return -1\n",
        "\n",
        "    def remove(self, key: int) -> None:\n",
        "        \"\"\"\n",
        "        Removes the mapping of the specified value key if this map contains a \n",
        "        mapping for the key\n",
        "        \"\"\"\n",
        "        index = self.my_hashing_func(key)\n",
        "        # keep track of current & previous node\n",
        "        current = self.storage[index]\n",
        "        prev = self.storage[index]\n",
        "\n",
        "        # if the current is None:\n",
        "        if current == None:\n",
        "          # return from the method\n",
        "          return\n",
        "        \n",
        "        # if the current node's key is equal to the passed in key\n",
        "        if current.key == key:\n",
        "          # set the storage at the current index to the current node's next\n",
        "          self.storage[index] = current.next\n",
        "\n",
        "        # otherwise:\n",
        "        else:\n",
        "          # traverse to the next node\n",
        "          current = current.next\n",
        "\n",
        "          # while current:\n",
        "          while current:\n",
        "            # check if the current node's key is equal to the passed in key\n",
        "            if current.key == key:\n",
        "              # set the prev node's next to the current node's next\n",
        "              prev.next = current.next\n",
        "              # break\n",
        "              break\n",
        "            # otherwise:\n",
        "              # set prev = prev.next\n",
        "              prev = prev.next\n",
        "              # set current.next\n",
        "              current = current.next\n",
        "# tests\n",
        "hash_table = MyHashTable();\n",
        "hash_table.put(\"a\", 1);\n",
        "hash_table.put(\"b\", 2);\n",
        "print(hash_table.get(\"a\"))            # returns 1\n",
        "print(hash_table.get(\"c\"))            # returns -1 (not found)\n",
        "hash_table.put(\"b\", 1);         # update the existing value\n",
        "print(hash_table.get(\"b\"))            # returns 1\n",
        "hash_table.remove(\"b\");         # remove the mapping for 2\n",
        "print(hash_table.get(\"b\"))            # returns -1 (not found)"
      ],
      "execution_count": 2,
      "outputs": [
        {
          "output_type": "stream",
          "name": "stdout",
          "text": [
            "1\n",
            "-1\n",
            "1\n",
            "-1\n"
          ]
        }
      ]
    }
  ]
}